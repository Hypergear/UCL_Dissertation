{
 "cells": [
  {
   "cell_type": "code",
   "execution_count": 1,
   "metadata": {},
   "outputs": [],
   "source": [
    "# import markdown"
   ]
  },
  {
   "cell_type": "code",
   "execution_count": 2,
   "metadata": {},
   "outputs": [],
   "source": [
    "tableIndex = 0\n",
    "imgIndex = 0"
   ]
  },
  {
   "cell_type": "code",
   "execution_count": 3,
   "metadata": {},
   "outputs": [],
   "source": [
    "def processTable(string):\n",
    "    temp= string.split(' ')\n",
    "    out = ''\n",
    "    \n",
    "    for x in temp:\n",
    "        if '%^%^%N' in x:\n",
    "            global tableIndex\n",
    "            tableIndex += 1\n",
    "            x = tableIndex\n",
    "        elif '%^%^%' in x:\n",
    "            if x[5] == '+':\n",
    "                x = tableIndex + int(x[6])\n",
    "            elif x[5] == '-':\n",
    "                x = tableIndex - int(x[6])\n",
    "            \n",
    "\n",
    "        out = out + ' ' + str(x)\n",
    "    return (out.strip() + '\\n')\n",
    "    # print(out.strip() + '\\n')\n",
    "# processTable('The path between the origin and destination in a network could either be manually selected to a static node, or adaptively changed based on the algorithm. The routing decisions changes dynamically based on the current information within the network, such as current network topology, traffic load, latency. (@medhi_2017_network) The first priority for all the routing algorithm is to prevent the deadlock, thus the optimal routing strategy aims to achieve maximum efficiency by minimizing the routing cost.(@duato_2003_chapter) Considering an undirected graph(G) with N nodes and M edges, where each edge is assigned to a weight to represent a physical property of distance. The target is to find a route between two nodes alone a set of edges, therefore the sum of weights under this route is minimum upon all the route choices. The routing algorithm to mathematically discover the best route is called shortest-path algorithm. There are four types of weight property applied to the edges into their investigation, they are: Simple, Spatial length, Budget cost, Bandwidth capacity. The detailed summary of description can be found in Table %^%^%+1')"
   ]
  },
  {
   "cell_type": "code",
   "execution_count": 4,
   "metadata": {},
   "outputs": [],
   "source": [
    "def processImg(string):\n",
    "    temp= string.split(' ')\n",
    "    out = ''\n",
    "    \n",
    "    for x in temp:\n",
    "        if '%&%&%N' in x:\n",
    "            global imgIndex\n",
    "            imgIndex += 1\n",
    "            x = imgIndex\n",
    "        elif '%&%&%&' in x:\n",
    "            if x[6] == '+':\n",
    "                x = imgIndex + int(x[7])\n",
    "            elif x[6] == '-':\n",
    "                x = imgIndex - int(x[7])\n",
    "            \n",
    "\n",
    "        out = out + ' ' + str(x)\n",
    "    return (out.strip() + '\\n')\n"
   ]
  },
  {
   "cell_type": "code",
   "execution_count": 5,
   "metadata": {},
   "outputs": [],
   "source": [
    "\n",
    "f = open(\"../Test.txt\", 'r')\n",
    "o = open(\"../Test_2.txt\", 'w')\n",
    "\n",
    "byt = f.readlines()\n",
    "for x in byt:\n",
    "    o.write(processTable(x))\n",
    "    # o.write(x)\n",
    "    # processImg(x)\n",
    "    o.flush()\n",
    "f.close()\n",
    "o.close()\n",
    "\n",
    "f = open(\"../Test_2.txt\", 'r')\n",
    "o = open(\"../Test.txt\", 'w')\n",
    "\n",
    "byt = f.readlines()\n",
    "for x in byt:\n",
    "    o.write(processImg(x))\n",
    "    o.flush()\n",
    "f.close()\n",
    "o.close()"
   ]
  }
 ],
 "metadata": {
  "kernelspec": {
   "display_name": "Python 3.9.9 64-bit",
   "language": "python",
   "name": "python3"
  },
  "language_info": {
   "codemirror_mode": {
    "name": "ipython",
    "version": 3
   },
   "file_extension": ".py",
   "mimetype": "text/x-python",
   "name": "python",
   "nbconvert_exporter": "python",
   "pygments_lexer": "ipython3",
   "version": "3.9.9"
  },
  "orig_nbformat": 4,
  "vscode": {
   "interpreter": {
    "hash": "b0fa6594d8f4cbf19f97940f81e996739fb7646882a419484c72d19e05852a7e"
   }
  }
 },
 "nbformat": 4,
 "nbformat_minor": 2
}
