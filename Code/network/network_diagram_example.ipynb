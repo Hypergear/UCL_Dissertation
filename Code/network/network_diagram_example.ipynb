{
 "cells": [
  {
   "cell_type": "code",
   "execution_count": 43,
   "metadata": {},
   "outputs": [],
   "source": [
    "import geopandas as gpd\n",
    "from shapely.geometry import LineString\n",
    "import pandas as pd\n",
    "import networkx as nx\n",
    "import sqlite3\n",
    "import matplotlib.pyplot as plt"
   ]
  },
  {
   "cell_type": "code",
   "execution_count": 64,
   "metadata": {},
   "outputs": [],
   "source": [
    "with sqlite3.connect('Dataset/submarine_cable.sqlite') as con:\n",
    "    c = con.cursor()\n",
    "    cable_coor = pd.read_sql(\"select distinct geometry from landing_points left join cable_coor on cable_id = id where id = '2africa'\",con=con)\n",
    "# cable_shap = gpd.GeoDataFrame(cable_coor, crs=4326)"
   ]
  },
  {
   "cell_type": "code",
   "execution_count": 65,
   "metadata": {},
   "outputs": [
    {
     "name": "stderr",
     "output_type": "stream",
     "text": [
      "/var/folders/93/98m4gg790h36hw_xcd31b1d40000gn/T/ipykernel_26161/4183496804.py:1: FutureWarning: The default value of regex will change from True to False in a future version.\n",
      "  cleaned_cable_coor = cable_coor[\"geometry\"].str.replace(\"MULTILINESTRING \\(\\(\", \"\").str.replace(\"\\)\", \"\").str.replace(\"'\",\"\")\n"
     ]
    },
    {
     "data": {
      "text/plain": [
       "0    55.350035025455725 26.26024097157773, 54.90003...\n",
       "Name: geometry, dtype: object"
      ]
     },
     "execution_count": 65,
     "metadata": {},
     "output_type": "execute_result"
    }
   ],
   "source": [
    "cleaned_cable_coor = cable_coor[\"geometry\"].str.replace(\"MULTILINESTRING \\(\\(\", \"\").str.replace(\"\\)\", \"\").str.replace(\"'\",\"\")\n",
    "# coor_list = cleaned_cable_coor.iloc[0].split(', (')\n",
    "cleaned_cable_coor"
   ]
  },
  {
   "cell_type": "code",
   "execution_count": 45,
   "metadata": {},
   "outputs": [
    {
     "name": "stderr",
     "output_type": "stream",
     "text": [
      "/var/folders/93/98m4gg790h36hw_xcd31b1d40000gn/T/ipykernel_26161/2669464575.py:1: FutureWarning: The default value of regex will change from True to False in a future version.\n",
      "  cleaned_cable_coor = cable_coor[\"geometry\"].str.replace(\"MULTILINESTRING \\(\\(\", \"\").str.replace(\"\\)\", \"\").str.replace(\"'\",\"\")\n"
     ]
    },
    {
     "data": {
      "text/html": [
       "<div>\n",
       "<style scoped>\n",
       "    .dataframe tbody tr th:only-of-type {\n",
       "        vertical-align: middle;\n",
       "    }\n",
       "\n",
       "    .dataframe tbody tr th {\n",
       "        vertical-align: top;\n",
       "    }\n",
       "\n",
       "    .dataframe thead th {\n",
       "        text-align: right;\n",
       "    }\n",
       "</style>\n",
       "<table border=\"1\" class=\"dataframe\">\n",
       "  <thead>\n",
       "    <tr style=\"text-align: right;\">\n",
       "      <th></th>\n",
       "      <th>lon1</th>\n",
       "      <th>lat1</th>\n",
       "      <th>lon2</th>\n",
       "      <th>lat2</th>\n",
       "    </tr>\n",
       "  </thead>\n",
       "  <tbody>\n",
       "    <tr>\n",
       "      <th>0</th>\n",
       "      <td>54.900035</td>\n",
       "      <td>25.754704</td>\n",
       "      <td>55.350035</td>\n",
       "      <td>26.260241</td>\n",
       "    </tr>\n",
       "    <tr>\n",
       "      <th>1</th>\n",
       "      <td>54.450036</td>\n",
       "      <td>24.839313</td>\n",
       "      <td>54.900035</td>\n",
       "      <td>25.754704</td>\n",
       "    </tr>\n",
       "    <tr>\n",
       "      <th>2</th>\n",
       "      <td>54.419076</td>\n",
       "      <td>24.443965</td>\n",
       "      <td>54.450036</td>\n",
       "      <td>24.839313</td>\n",
       "    </tr>\n",
       "    <tr>\n",
       "      <th>3</th>\n",
       "      <td>60.975031</td>\n",
       "      <td>16.318380</td>\n",
       "      <td>60.525031</td>\n",
       "      <td>16.102326</td>\n",
       "    </tr>\n",
       "    <tr>\n",
       "      <th>4</th>\n",
       "      <td>66.600027</td>\n",
       "      <td>18.251816</td>\n",
       "      <td>60.975031</td>\n",
       "      <td>16.318380</td>\n",
       "    </tr>\n",
       "    <tr>\n",
       "      <th>...</th>\n",
       "      <td>...</td>\n",
       "      <td>...</td>\n",
       "      <td>...</td>\n",
       "      <td>...</td>\n",
       "    </tr>\n",
       "    <tr>\n",
       "      <th>215</th>\n",
       "      <td>-9.337919</td>\n",
       "      <td>38.688829</td>\n",
       "      <td>-10.799918</td>\n",
       "      <td>38.475881</td>\n",
       "    </tr>\n",
       "    <tr>\n",
       "      <th>216</th>\n",
       "      <td>5.400070</td>\n",
       "      <td>2.367913</td>\n",
       "      <td>3.825072</td>\n",
       "      <td>4.164913</td>\n",
       "    </tr>\n",
       "    <tr>\n",
       "      <th>217</th>\n",
       "      <td>7.200069</td>\n",
       "      <td>1.243490</td>\n",
       "      <td>5.400070</td>\n",
       "      <td>2.367913</td>\n",
       "    </tr>\n",
       "    <tr>\n",
       "      <th>218</th>\n",
       "      <td>8.550068</td>\n",
       "      <td>1.018534</td>\n",
       "      <td>7.200069</td>\n",
       "      <td>1.243490</td>\n",
       "    </tr>\n",
       "    <tr>\n",
       "      <th>219</th>\n",
       "      <td>9.454268</td>\n",
       "      <td>0.394465</td>\n",
       "      <td>8.550068</td>\n",
       "      <td>1.018534</td>\n",
       "    </tr>\n",
       "  </tbody>\n",
       "</table>\n",
       "<p>220 rows × 4 columns</p>\n",
       "</div>"
      ],
      "text/plain": [
       "          lon1       lat1       lon2       lat2\n",
       "0    54.900035  25.754704  55.350035  26.260241\n",
       "1    54.450036  24.839313  54.900035  25.754704\n",
       "2    54.419076  24.443965  54.450036  24.839313\n",
       "3    60.975031  16.318380  60.525031  16.102326\n",
       "4    66.600027  18.251816  60.975031  16.318380\n",
       "..         ...        ...        ...        ...\n",
       "215  -9.337919  38.688829 -10.799918  38.475881\n",
       "216   5.400070   2.367913   3.825072   4.164913\n",
       "217   7.200069   1.243490   5.400070   2.367913\n",
       "218   8.550068   1.018534   7.200069   1.243490\n",
       "219   9.454268   0.394465   8.550068   1.018534\n",
       "\n",
       "[220 rows x 4 columns]"
      ]
     },
     "execution_count": 45,
     "metadata": {},
     "output_type": "execute_result"
    }
   ],
   "source": [
    "cleaned_cable_coor = cable_coor[\"geometry\"].str.replace(\"MULTILINESTRING \\(\\(\", \"\").str.replace(\"\\)\", \"\").str.replace(\"'\",\"\")\n",
    "\n",
    "coor_list = cleaned_cable_coor.iloc[0].split(', (')\n",
    "\n",
    "data = pd.DataFrame()\n",
    "\n",
    "\n",
    "for x in coor_list:\n",
    "    seg = pd.DataFrame()\n",
    "    abc = x.split(', ')\n",
    "    # print(abc)\n",
    "    for y in abc:\n",
    "        a = {'lon1': y.split(' ')[0], 'lat1': y.split(' ')[1]}\n",
    "        seg = seg.append(a,ignore_index=True)\n",
    "    seg[\"lon1\"] = seg[\"lon1\"].astype(\"float64\")\n",
    "    seg[\"lat1\"] = seg[\"lat1\"].astype(\"float64\")\n",
    "    seg['lon2'] = seg['lon1'].shift()\n",
    "    seg['lat2'] = seg['lat1'].shift()\n",
    "    data = data.append(seg.dropna(),ignore_index=True)\n",
    "data\n",
    "# data['lon2'] = data['lon1'] - data['lon1'].shift()"
   ]
  },
  {
   "cell_type": "code",
   "execution_count": 46,
   "metadata": {},
   "outputs": [],
   "source": [
    "# data['lon2'] = data['lon1'].shift()\n",
    "# data['lat2'] = data['lat1'].shift()\n",
    "# data[\"lon1\"] = data[\"lon1\"].astype(\"float64\")\n",
    "# data[\"lat1\"] = data[\"lat1\"].astype(\"float64\")"
   ]
  },
  {
   "cell_type": "code",
   "execution_count": null,
   "metadata": {},
   "outputs": [],
   "source": [
    "\n"
   ]
  },
  {
   "cell_type": "code",
   "execution_count": 47,
   "metadata": {},
   "outputs": [],
   "source": [
    "data.dropna()\n",
    "gdf = gpd.GeoDataFrame(data)\n",
    "    # data,geometry=gpd.points_from_xy(data.lon1, data.lat1), crs=4326)\n",
    "gdf['fr_point'] = gpd.points_from_xy(x=gdf['lon1'],y=gdf['lat1'])\n",
    "gdf['to_point'] = gpd.points_from_xy(x=gdf['lon2'],y=gdf['lat2'])\n",
    "gdf['fr_id'] = round((round(gdf['lon1'],4) + round(gdf['lat1'],4))*10000,0)\n",
    "gdf['to_id'] = round((round(gdf['lon2'],4) + round(gdf['lat2'],4))*10000,0)\n",
    "gdf['distance_from_previous'] = gdf['fr_point'].distance(gdf['to_point'])\n",
    "\n",
    "# gdf['distance_from_previous'] = gdf.distance(gdf.shift(1))"
   ]
  },
  {
   "cell_type": "code",
   "execution_count": 48,
   "metadata": {},
   "outputs": [],
   "source": [
    "gdf = gdf.iloc[1::,]\n",
    "gdf['line'] = gdf.apply(lambda row: LineString([row['fr_point'], row['to_point']]), axis=1) #Create a linestring column\n",
    "geo_df = gpd.GeoDataFrame(gdf, geometry=gdf['line'])"
   ]
  },
  {
   "cell_type": "code",
   "execution_count": 49,
   "metadata": {},
   "outputs": [
    {
     "data": {
      "text/plain": [
       "<AxesSubplot:>"
      ]
     },
     "execution_count": 49,
     "metadata": {},
     "output_type": "execute_result"
    },
    {
     "data": {
      "image/png": "[encoded data removed]",
      "text/plain": [
       "<Figure size 432x288 with 1 Axes>"
      ]
     },
     "metadata": {
      "needs_background": "light"
     },
     "output_type": "display_data"
    }
   ],
   "source": [
    "gdf.plot()"
   ]
  },
  {
   "cell_type": "code",
   "execution_count": 50,
   "metadata": {},
   "outputs": [],
   "source": [
    "gdf = gdf.reset_index( )\n"
   ]
  },
  {
   "cell_type": "code",
   "execution_count": 51,
   "metadata": {},
   "outputs": [],
   "source": [
    "# gdf.to_csv('/Users/dijiongyuequ/Downloads/234.csv')"
   ]
  },
  {
   "cell_type": "code",
   "execution_count": 52,
   "metadata": {},
   "outputs": [],
   "source": [
    "G = nx.from_pandas_edgelist(gdf, 'fr_id', 'to_id', edge_attr=['index', 'distance_from_previous'], create_using=nx.Graph)\n"
   ]
  },
  {
   "cell_type": "code",
   "execution_count": 53,
   "metadata": {},
   "outputs": [
    {
     "data": {
      "text/plain": [
       "<matplotlib.collections.LineCollection at 0x13b107cd0>"
      ]
     },
     "execution_count": 53,
     "metadata": {},
     "output_type": "execute_result"
    },
    {
     "data": {
      "image/png": "[encoded data removed]",
      "text/plain": [
       "<Figure size 432x288 with 1 Axes>"
      ]
     },
     "metadata": {},
     "output_type": "display_data"
    }
   ],
   "source": [
    "nx.draw_networkx_edges(G, pos=nx.spring_layout(G))\n"
   ]
  },
  {
   "cell_type": "code",
   "execution_count": 54,
   "metadata": {},
   "outputs": [],
   "source": [
    "path = nx.shortest_path(G,816840,56755, weight = 'length')\n",
    "\n",
    "# def getPath(path, road):\n",
    "#     pathroad = pd.DataFrame()\n",
    "#     for i in range(5):\n",
    "#         # len(path.keys())-1\n",
    "#         node1 = path[list (path.keys())[i]]\n",
    "#         print(node1)\n",
    "#         node2 = path[list (path.keys())[i+1]]\n",
    "#         print(node2)\n",
    "#         r = road[(road['fr_id'] == node1) & (road['to_id'] == node2)]\n",
    "#         pathroad = pathroad.append(r)\n",
    "#     return pathroad\n",
    "\n",
    "def getPath(path, road):\n",
    "    pathroad = pd.DataFrame()\n",
    "    for i in range(len(path)-1):\n",
    "        # len(path.keys())-1\n",
    "        node1 = path[i]\n",
    "        node2 = path[i+1]\n",
    "        r = road[(road['fr_id'] == node1) & (road['to_id'] == node2)]\n",
    "        pathroad = pathroad.append(r)\n",
    "    return pathroad"
   ]
  },
  {
   "cell_type": "code",
   "execution_count": 55,
   "metadata": {},
   "outputs": [
    {
     "data": {
      "text/plain": [
       "<AxesSubplot:>"
      ]
     },
     "execution_count": 55,
     "metadata": {},
     "output_type": "execute_result"
    },
    {
     "data": {
      "image/png": "[encoded data removed]",
      "text/plain": [
       "<Figure size 432x288 with 1 Axes>"
      ]
     },
     "metadata": {
      "needs_background": "light"
     },
     "output_type": "display_data"
    }
   ],
   "source": [
    "path_road = getPath(path, gdf)\n",
    "path_road.plot()\n"
   ]
  },
  {
   "cell_type": "code",
   "execution_count": 56,
   "metadata": {},
   "outputs": [],
   "source": [
    "# cable_shap.plot()\n",
    "\n",
    "# fig     = plt.figure(figsize=(15,10),dpi = 200)\n",
    "# ax      = plt.subplot(111)\n",
    "# cable_shap.plot(column='color', ax=ax, legend=True, cmap='Set2',aspect=1)\n"
   ]
  },
  {
   "cell_type": "code",
   "execution_count": 57,
   "metadata": {},
   "outputs": [],
   "source": [
    "# landing_point = gpd.read_file(\"/Users/dijiongyuequ/Downloads/GitHub/UCL_Dessertation/Dataset/SubmarineCableMap/cable-geo.json\")\n",
    "# landing_point.to_csv(\"/Users/dijiongyuequ/Downloads/123.csv\")"
   ]
  }
 ],
 "metadata": {
  "interpreter": {
   "hash": "b0fa6594d8f4cbf19f97940f81e996739fb7646882a419484c72d19e05852a7e"
  },
  "kernelspec": {
   "display_name": "Python 3.9.9 64-bit",
   "language": "python",
   "name": "python3"
  },
  "language_info": {
   "codemirror_mode": {
    "name": "ipython",
    "version": 3
   },
   "file_extension": ".py",
   "mimetype": "text/x-python",
   "name": "python",
   "nbconvert_exporter": "python",
   "pygments_lexer": "ipython3",
   "version": "3.9.9"
  },
  "orig_nbformat": 4
 },
 "nbformat": 4,
 "nbformat_minor": 2
}
